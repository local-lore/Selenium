{
 "cells": [
  {
   "cell_type": "code",
   "execution_count": null,
   "metadata": {},
   "outputs": [],
   "source": [
    "%pip install selenium webdriver-manager pandas"
   ]
  },
  {
   "cell_type": "code",
   "execution_count": 176,
   "metadata": {},
   "outputs": [],
   "source": [
    "import selenium\n",
    "from selenium import webdriver\n",
    "from selenium.webdriver.common.by import By\n",
    "import pandas as pd\n",
    "from selenium.webdriver.chrome.service import Service\n",
    "from selenium.webdriver.chrome.options import Options\n",
    "from webdriver_manager.chrome import ChromeDriverManager\n",
    "from selenium.webdriver.support.ui import WebDriverWait\n",
    "from selenium.webdriver.support import expected_conditions as EC\n",
    "from selenium.webdriver.common.action_chains import ActionChains\n",
    "import random\n",
    "import time"
   ]
  },
  {
   "cell_type": "code",
   "execution_count": 177,
   "metadata": {},
   "outputs": [],
   "source": [
    "# Initialize wevdriver\n",
    "def init_driver():\n",
    "    options = Options()\n",
    "    options.add_argument('--headless')\n",
    "    options.add_argument('--no-sandbox')\n",
    "    options.add_argument('--disable-gpu')\n",
    "    \n",
    "    return webdriver.Chrome(service= Service(ChromeDriverManager().install()), options=options)"
   ]
  },
  {
   "cell_type": "code",
   "execution_count": 178,
   "metadata": {},
   "outputs": [],
   "source": [
    "def count_topics(driver, course):\n",
    "    course.click()\n",
    "\n",
    "    # Спроба натиснути \"Показати більше\", якщо кнопка є\n",
    "    try:\n",
    "        show_more_button = WebDriverWait(driver, 3).until(\n",
    "            EC.element_to_be_clickable((By.XPATH, '//button[contains(@class, \"CourseModulesList_showMore\")]'))\n",
    "        )\n",
    "        driver.execute_script(\"arguments[0].click();\", show_more_button)\n",
    "        time.sleep(1)\n",
    "    except:\n",
    "        pass\n",
    "        \n",
    "    # Підрахунок елементів\n",
    "    list_count = len(driver.find_elements(By.XPATH, '//div[contains(@class, \"CourseProgram_modules\")]/ul/li'))\n",
    "    \n",
    "    driver.back()\n",
    "    \n",
    "    return list_count"
   ]
  },
  {
   "cell_type": "code",
   "execution_count": 179,
   "metadata": {},
   "outputs": [],
   "source": [
    "def parse_courses(driver, url):\n",
    "    driver.get(url)\n",
    "    actions = ActionChains(driver)\n",
    "\n",
    "    wait = WebDriverWait(driver, 10)\n",
    "    courses = []\n",
    "\n",
    "    wait.until(EC.presence_of_element_located((By.XPATH, '//a[contains(@class, \"ProfessionCard_cardWrapper\")]')))\n",
    "    elements = driver.find_elements(By.XPATH, '//a[contains(@class, \"ProfessionCard_cardWrapper\")]')\n",
    "\n",
    "    for i in range(len(elements)):  # для уникнення StaleElementReferenceException\n",
    "        elements = driver.find_elements(By.XPATH, '//a[contains(@class, \"ProfessionCard_cardWrapper\")]')  # Оновлюємо список курсів\n",
    "        course = elements[i]  # Отримуємо актуальний елемент       \n",
    "\n",
    "        try:\n",
    "            driver.execute_script(\"arguments[0].scrollIntoView();\", course)\n",
    "            time.sleep(0.5)\n",
    "            actions.move_to_element(course).perform()\n",
    "            time.sleep(1)\n",
    "\n",
    "            name = next((el.text.strip() for el in course.find_elements(By.XPATH, './/h3[contains(@class, \"ProfessionCard_title\")]')), \"N/A\")\n",
    "            description = next((el.text.strip() for el in course.find_elements(By.XPATH, './/p[contains(@class, \"ProfessionCard_description\")]')), \"Опис відсутній\")\n",
    "            \n",
    "            moduls = count_topics(driver, course)\n",
    "\n",
    "            courses.append({'Name': name, \n",
    "                            'Description': description, \n",
    "                            'Number of Moduls': moduls})\n",
    "        except:\n",
    "            print(\"Parsing mistake\")\n",
    "            continue\n",
    "\n",
    "    return courses"
   ]
  },
  {
   "cell_type": "code",
   "execution_count": 180,
   "metadata": {},
   "outputs": [],
   "source": [
    "url = ('https://mate.academy/')\n",
    "driver = init_driver()\n",
    "courses_df = parse_courses2(driver, url)\n"
   ]
  },
  {
   "cell_type": "code",
   "execution_count": 181,
   "metadata": {},
   "outputs": [
    {
     "data": {
      "text/html": [
       "<div>\n",
       "<style scoped>\n",
       "    .dataframe tbody tr th:only-of-type {\n",
       "        vertical-align: middle;\n",
       "    }\n",
       "\n",
       "    .dataframe tbody tr th {\n",
       "        vertical-align: top;\n",
       "    }\n",
       "\n",
       "    .dataframe thead th {\n",
       "        text-align: right;\n",
       "    }\n",
       "</style>\n",
       "<table border=\"1\" class=\"dataframe\">\n",
       "  <thead>\n",
       "    <tr style=\"text-align: right;\">\n",
       "      <th></th>\n",
       "      <th>Name</th>\n",
       "      <th>Description</th>\n",
       "      <th>Number of Moduls</th>\n",
       "    </tr>\n",
       "  </thead>\n",
       "  <tbody>\n",
       "    <tr>\n",
       "      <th>0</th>\n",
       "      <td>UI/UX designer</td>\n",
       "      <td></td>\n",
       "      <td>13</td>\n",
       "    </tr>\n",
       "    <tr>\n",
       "      <th>1</th>\n",
       "      <td>Data analyst</td>\n",
       "      <td>Аналізуй дані, які допоможуть бізнесу приймати...</td>\n",
       "      <td>16</td>\n",
       "    </tr>\n",
       "    <tr>\n",
       "      <th>2</th>\n",
       "      <td>QA engineer</td>\n",
       "      <td>Перевіряй програмне забезпечення на помилки, щ...</td>\n",
       "      <td>23</td>\n",
       "    </tr>\n",
       "    <tr>\n",
       "      <th>3</th>\n",
       "      <td>Python developer</td>\n",
       "      <td>Пиши й підтримуй код на Python для різного про...</td>\n",
       "      <td>21</td>\n",
       "    </tr>\n",
       "    <tr>\n",
       "      <th>4</th>\n",
       "      <td>Digital marketer</td>\n",
       "      <td>Створюй маркетингові кампанії, щоб допомагати ...</td>\n",
       "      <td>11</td>\n",
       "    </tr>\n",
       "    <tr>\n",
       "      <th>5</th>\n",
       "      <td>Front-end developer</td>\n",
       "      <td>Розробляй видимі частини вебсторінок і мобільн...</td>\n",
       "      <td>23</td>\n",
       "    </tr>\n",
       "    <tr>\n",
       "      <th>6</th>\n",
       "      <td>Full-stack developer</td>\n",
       "      <td>Розробляй продукт самостійно — від створення в...</td>\n",
       "      <td>26</td>\n",
       "    </tr>\n",
       "    <tr>\n",
       "      <th>7</th>\n",
       "      <td>DevOps engineer</td>\n",
       "      <td>Налагоджуй інструменти і процеси, щоб програмн...</td>\n",
       "      <td>21</td>\n",
       "    </tr>\n",
       "    <tr>\n",
       "      <th>8</th>\n",
       "      <td>Java developer</td>\n",
       "      <td>Розробляй надійне програмне забезпечення на Ja...</td>\n",
       "      <td>19</td>\n",
       "    </tr>\n",
       "    <tr>\n",
       "      <th>9</th>\n",
       "      <td>Recruiter</td>\n",
       "      <td>Шукай і знаходь талановитих кандидатів для кон...</td>\n",
       "      <td>9</td>\n",
       "    </tr>\n",
       "  </tbody>\n",
       "</table>\n",
       "</div>"
      ],
      "text/plain": [
       "                   Name                                        Description  \\\n",
       "0        UI/UX designer                                                      \n",
       "1          Data analyst  Аналізуй дані, які допоможуть бізнесу приймати...   \n",
       "2           QA engineer  Перевіряй програмне забезпечення на помилки, щ...   \n",
       "3      Python developer  Пиши й підтримуй код на Python для різного про...   \n",
       "4      Digital marketer  Створюй маркетингові кампанії, щоб допомагати ...   \n",
       "5   Front-end developer  Розробляй видимі частини вебсторінок і мобільн...   \n",
       "6  Full-stack developer  Розробляй продукт самостійно — від створення в...   \n",
       "7       DevOps engineer  Налагоджуй інструменти і процеси, щоб програмн...   \n",
       "8        Java developer  Розробляй надійне програмне забезпечення на Ja...   \n",
       "9             Recruiter  Шукай і знаходь талановитих кандидатів для кон...   \n",
       "\n",
       "   Number of Moduls  \n",
       "0                13  \n",
       "1                16  \n",
       "2                23  \n",
       "3                21  \n",
       "4                11  \n",
       "5                23  \n",
       "6                26  \n",
       "7                21  \n",
       "8                19  \n",
       "9                 9  "
      ]
     },
     "execution_count": 181,
     "metadata": {},
     "output_type": "execute_result"
    }
   ],
   "source": [
    "df = pd.DataFrame(courses_df)\n",
    "df.head(10)"
   ]
  },
  {
   "cell_type": "code",
   "execution_count": 182,
   "metadata": {},
   "outputs": [],
   "source": [
    "df.to_csv(\"courses.csv\", index=False, encoding=\"utf-8\")"
   ]
  },
  {
   "cell_type": "code",
   "execution_count": 183,
   "metadata": {},
   "outputs": [],
   "source": [
    "driver.quit()"
   ]
  }
 ],
 "metadata": {
  "kernelspec": {
   "display_name": "Python 3",
   "language": "python",
   "name": "python3"
  },
  "language_info": {
   "codemirror_mode": {
    "name": "ipython",
    "version": 3
   },
   "file_extension": ".py",
   "mimetype": "text/x-python",
   "name": "python",
   "nbconvert_exporter": "python",
   "pygments_lexer": "ipython3",
   "version": "3.11.9"
  }
 },
 "nbformat": 4,
 "nbformat_minor": 2
}
